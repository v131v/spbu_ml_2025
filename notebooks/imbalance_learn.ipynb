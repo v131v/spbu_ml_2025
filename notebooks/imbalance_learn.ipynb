{
 "cells": [
  {
   "cell_type": "markdown",
   "metadata": {},
   "source": [
    "# Imbalanced data problems"
   ]
  },
  {
   "cell_type": "code",
   "execution_count": null,
   "metadata": {
    "collapsed": false,
    "jupyter": {
     "outputs_hidden": false
    }
   },
   "outputs": [],
   "source": [
    "import random\n",
    "\n",
    "import matplotlib\n",
    "import matplotlib.pyplot as plt\n",
    "import numpy as np\n",
    "import pandas\n",
    "import pandas as pd\n",
    "import seaborn as sns\n",
    "import yaml\n",
    "from matplotlib.colors import ListedColormap\n",
    "from sklearn import metrics\n",
    "from sklearn.datasets import make_circles, make_blobs, make_classification, make_moons\n",
    "from sklearn.discriminant_analysis import QuadraticDiscriminantAnalysis\n",
    "from sklearn.inspection import DecisionBoundaryDisplay\n",
    "from sklearn.linear_model import LogisticRegression\n",
    "from sklearn.pipeline import Pipeline\n",
    "from sklearn.preprocessing import StandardScaler\n",
    "from sklearn.utils import compute_class_weight\n",
    "from sklearn.metrics import (\n",
    "    f1_score,\n",
    "    accuracy_score,\n",
    "    classification_report,\n",
    "    confusion_matrix,\n",
    "    precision_score,\n",
    "    recall_score,\n",
    "    roc_auc_score,\n",
    ")\n",
    "from sklearn.model_selection import train_test_split\n",
    "from sklearn.pipeline import make_pipeline\n",
    "from sklearn.preprocessing import StandardScaler\n",
    "from sklearn.tree import DecisionTreeClassifier, plot_tree\n",
    "from sklearn.cluster import KMeans\n",
    "from imblearn.over_sampling import RandomOverSampler\n",
    "\n",
    "SEED = 314159\n",
    "TRAIN_TEST_SPLIT = 0.80\n",
    "\n",
    "data_path = \"D:\\data\\ml\""
   ]
  },
  {
   "cell_type": "code",
   "execution_count": null,
   "metadata": {},
   "outputs": [],
   "source": [
    "!pip install imblearn"
   ]
  },
  {
   "cell_type": "markdown",
   "metadata": {
    "collapsed": false,
    "jupyter": {
     "outputs_hidden": false
    }
   },
   "source": [
    "Рассмотрим набор данных о качестве вина на основе различных химических показателей. Есть всего 6 значений качества, поэтому задачу проще всего решать классификацией."
   ]
  },
  {
   "cell_type": "code",
   "execution_count": null,
   "metadata": {
    "collapsed": false,
    "jupyter": {
     "outputs_hidden": false
    }
   },
   "outputs": [],
   "source": [
    "df = pd.read_csv(data_path+'/'+\"winequality-red.csv\", sep=\";\")"
   ]
  },
  {
   "cell_type": "code",
   "execution_count": null,
   "metadata": {
    "collapsed": false,
    "jupyter": {
     "outputs_hidden": false
    }
   },
   "outputs": [],
   "source": [
    "df.describe()"
   ]
  },
  {
   "cell_type": "markdown",
   "metadata": {
    "collapsed": false,
    "jupyter": {
     "outputs_hidden": false
    }
   },
   "source": [
    "## Несбалансированные данные\n",
    "Несбалансированные данные - это одна из наиболее распространенных проблем, с которой сталкиваются в машинном обучении. Они возникают, когда классы, которые мы пытаемся предсказать, представлены неравномерно. Другими словами, один класс имеет гораздо меньше примеров, чем другой, что создает дисбаланс в распределении данных.\n",
    "Деревья решений очень уязвимы перед дисбалансом классов, так как используют вероятности в критериях разбиения."
   ]
  },
  {
   "cell_type": "markdown",
   "metadata": {},
   "source": [
    "**Задание**: Определите, сколько в датасете примеров хорошего вина (оценка 7 и выше) и плохого (3) в процентах от общего количества"
   ]
  },
  {
   "cell_type": "code",
   "execution_count": null,
   "metadata": {},
   "outputs": [],
   "source": [
    "# Your code"
   ]
  },
  {
   "cell_type": "code",
   "execution_count": null,
   "metadata": {},
   "outputs": [],
   "source": []
  },
  {
   "cell_type": "markdown",
   "metadata": {},
   "source": [
    "**Задание**: Создайте новый признак \"good_quality\", чтобы выделить именно хорошее вино"
   ]
  },
  {
   "cell_type": "code",
   "execution_count": null,
   "metadata": {},
   "outputs": [],
   "source": [
    "# Your code"
   ]
  },
  {
   "cell_type": "code",
   "execution_count": null,
   "metadata": {},
   "outputs": [],
   "source": [
    "y_binarized = (df['quality'] > 6).astype(int)"
   ]
  },
  {
   "cell_type": "code",
   "execution_count": null,
   "metadata": {
    "collapsed": false,
    "jupyter": {
     "outputs_hidden": false
    }
   },
   "outputs": [],
   "source": [
    "X = df.drop('quality', axis=1)\n",
    "y = df['quality']\n",
    "X_train, X_test, y_train, y_test = train_test_split(X, y, test_size=0.2, random_state=SEED)\n",
    "_, _, y_train_b, y_test_b = train_test_split(X, y_binarized, test_size=0.2, random_state=SEED)"
   ]
  },
  {
   "cell_type": "code",
   "execution_count": null,
   "metadata": {
    "collapsed": false,
    "jupyter": {
     "outputs_hidden": false
    }
   },
   "outputs": [],
   "source": [
    "model = DecisionTreeClassifier(random_state=0)\n",
    "model.fit(X_train, y_train)\n",
    "print(\"Train score is: \", model.score(X_train, y_train))\n",
    "print(\"Test score is: \", model.score(X_test, y_test))"
   ]
  },
  {
   "cell_type": "code",
   "execution_count": null,
   "metadata": {},
   "outputs": [],
   "source": [
    "model_b = DecisionTreeClassifier(random_state=0)\n",
    "model_b.fit(X_train, y_train_b)\n",
    "print(\"Train score is: \", model_b.score(X_train, y_train_b))\n",
    "print(\"Test score is: \", model_b.score(X_test, y_test_b))"
   ]
  },
  {
   "cell_type": "markdown",
   "metadata": {
    "collapsed": false,
    "jupyter": {
     "outputs_hidden": false
    }
   },
   "source": [
    "### Метрики\n",
    "Так как данные несбалансированные, уместно ли использовать встроенное значение score для оценки модели? На самом деле, и да и нет, так как score возвращает усредненную точность по классам. Однако еще более информатиными будут F1-мера и другие более подробные оценки.\n",
    "Формула Precision:\n",
    "\\begin{equation}\n",
    "\\text{Precision} = \\frac{\\text{TP}}{ \\text{TP} + \\text{FP} }\n",
    "\\end{equation}\n",
    "Precision наиболее полезна, если цена FP велика. Примеры такой задачи - детекция спама. В случае, если полезное письмо попадет в спам, юзер может потерять важную информацию, что нежелательно.\n",
    "Формула Recall:\n",
    "\\begin{equation}\n",
    "\\text{Recall} = \\frac{\\text{TP}}{\\text{TP} + \\text{FN}}\n",
    "\\end{equation}\n",
    "Recall наиболее полезна, если цена FN велика. Она поможет, если нам необходимо найти всех больных пациентов, определить фрод и т.д.\n",
    "Вопрос: что отражают две эти метрики?\n",
    "\n",
    "\n",
    "Формула F1-метрики:\n",
    "\\begin{equation}\n",
    "\\text{F1} = \\frac{2 * \\text{TP}}{2 * \\text{TP} + \\text{FP} + \\text{FN}}\n",
    "\\end{equation}\n",
    "F1-метрика может быть выведена из precision и recall и позволяет найти баланс между ними. \n",
    "\n",
    "**Задание**: определите, как f1 выводится из precision и recall.\n",
    "\n",
    "Существует и болеее общая оценка - $F_\\beta$. Она позволяет получить взвешенное среднее между precision и recall. Ее формулу дадим на занятии. Наиболее популярные параметры - 2 и 0.5.\n",
    "Тут тоже есть особенности. Метрики бывают нескольких видов, в зависимости от того, как учитываются разные классы:\n",
    "- микро - метрики считаются глобально сразу по всем классам.\n",
    "- макро - вначале считаются для каждого класса, потом берется среднее\n",
    "- взвешенные по классам - вначале считаются для каждого класса, потом берется среднее, взвешенное по поддержке\n",
    "\n",
    "Вопрос: какой способ вычисления лучше всего выбрать при дисбалансе классов? Покажите на примере."
   ]
  },
  {
   "cell_type": "code",
   "execution_count": null,
   "metadata": {},
   "outputs": [],
   "source": [
    "# It's time to write something on whiteboard"
   ]
  },
  {
   "cell_type": "code",
   "execution_count": null,
   "metadata": {
    "collapsed": false,
    "jupyter": {
     "outputs_hidden": false
    }
   },
   "outputs": [],
   "source": [
    "from sklearn.metrics import f1_score\n",
    "\n",
    "print(\"Train f1-score is: \", f1_score(y_train, model.predict(X_train), average=\"micro\"))\n",
    "print(\"Test f1-score is: \", f1_score(y_test, model.predict(X_test), average=\"micro\"))"
   ]
  },
  {
   "cell_type": "code",
   "execution_count": null,
   "metadata": {},
   "outputs": [],
   "source": [
    "print(\"Train f1-score (binary) is: \", f1_score(y_train_b, model_b.predict(X_train), average=\"micro\"))\n",
    "print(\"Test f1-score  (binary) is: \", f1_score(y_test_b, model_b.predict(X_test), average=\"micro\"))"
   ]
  },
  {
   "cell_type": "code",
   "execution_count": null,
   "metadata": {
    "collapsed": false,
    "jupyter": {
     "outputs_hidden": false
    }
   },
   "outputs": [],
   "source": [
    "# get macro metrics for basic prediction"
   ]
  },
  {
   "cell_type": "code",
   "execution_count": null,
   "metadata": {},
   "outputs": [],
   "source": [
    "# get macro metrics for binarized prediction"
   ]
  },
  {
   "cell_type": "code",
   "execution_count": null,
   "metadata": {
    "collapsed": false,
    "jupyter": {
     "outputs_hidden": false
    }
   },
   "outputs": [],
   "source": [
    "from sklearn.metrics import ConfusionMatrixDisplay\n",
    "\n",
    "ConfusionMatrixDisplay.from_estimator(model, X_test, y_test)\n",
    "plt.show()"
   ]
  },
  {
   "cell_type": "markdown",
   "metadata": {
    "collapsed": false,
    "jupyter": {
     "outputs_hidden": false
    }
   },
   "source": [
    "Давайте руками рассмотрим, как оценивается точность и почему нам сложно получить адекватную оценку при сильном дисбалансе."
   ]
  },
  {
   "cell_type": "code",
   "execution_count": null,
   "metadata": {
    "collapsed": false,
    "jupyter": {
     "outputs_hidden": false
    }
   },
   "outputs": [],
   "source": [
    "metrics_df = pd.DataFrame(columns=['label', 'TP', 'TN', 'FP', 'FN', 'support', 'accuracy', 'precision', 'recall'])"
   ]
  },
  {
   "cell_type": "code",
   "execution_count": null,
   "metadata": {
    "collapsed": false,
    "jupyter": {
     "outputs_hidden": false
    }
   },
   "outputs": [],
   "source": [
    "classes = np.unique(y_train)\n",
    "classes.sort()\n",
    "print(classes)"
   ]
  },
  {
   "cell_type": "code",
   "execution_count": null,
   "metadata": {
    "collapsed": false,
    "jupyter": {
     "outputs_hidden": false
    }
   },
   "outputs": [],
   "source": [
    "y_pred = model.predict(X_test)"
   ]
  },
  {
   "cell_type": "markdown",
   "metadata": {},
   "source": [
    "**Задание**: Закончите код для рассчета метрик по классам."
   ]
  },
  {
   "cell_type": "code",
   "execution_count": null,
   "metadata": {
    "collapsed": false,
    "jupyter": {
     "outputs_hidden": false
    }
   },
   "outputs": [],
   "source": [
    "for class_id in classes:\n",
    "    class_stats = {}\n",
    "    gt = X_test.loc[y_test==class_id]\n",
    "    class_stats[\"support\"] = len(gt)\n",
    "    ########### YOUR CODE\n",
    "    # get model predictions\n",
    "    # calculate number of TP, FP, TN and FN for this class using filtering\n",
    "    # Use provided metrics to calculate accuracy, precision and recall    \n",
    "    ########### YOUR CODE\n",
    "    metrics_df = pd.concat([metrics_df, pd.DataFrame(class_stats, index=[0])], ignore_index=True)"
   ]
  },
  {
   "cell_type": "code",
   "execution_count": null,
   "metadata": {},
   "outputs": [],
   "source": [
    "metrics_df"
   ]
  },
  {
   "cell_type": "markdown",
   "metadata": {},
   "source": [
    "**Задание**: Посчитайте макро-метрики. \n",
    "\n",
    "**Задание со звездочкой**: Посчитайте микро-метрики. "
   ]
  },
  {
   "cell_type": "markdown",
   "metadata": {
    "collapsed": false,
    "jupyter": {
     "outputs_hidden": false
    }
   },
   "source": [
    "## Imbalanced learning"
   ]
  },
  {
   "cell_type": "markdown",
   "metadata": {
    "collapsed": false,
    "jupyter": {
     "outputs_hidden": false
    }
   },
   "source": [
    "Как заставить модель учиться так, чтобы учитывать все классы? Самое простое - задать вес класса."
   ]
  },
  {
   "cell_type": "markdown",
   "metadata": {},
   "source": [
    "Вопрос: Какие есть хорошие способы это сделать?"
   ]
  },
  {
   "cell_type": "code",
   "execution_count": null,
   "metadata": {
    "collapsed": false,
    "jupyter": {
     "outputs_hidden": false
    }
   },
   "outputs": [],
   "source": [
    "class_weights =  # your code: set the list of weights of your choice\n",
    "model = DecisionTreeClassifier(class_weight={classes[i]: w for i, w in enumerate(class_weights)}, random_state=0)\n",
    "model.fit(X_train, y_train)\n",
    "print(\"Train score is: \", model.score(X_train, y_train))\n",
    "print(\"Test score is: \", model.score(X_test, y_test))"
   ]
  },
  {
   "cell_type": "code",
   "execution_count": null,
   "metadata": {},
   "outputs": [],
   "source": [
    "class_weights"
   ]
  },
  {
   "cell_type": "code",
   "execution_count": null,
   "metadata": {},
   "outputs": [],
   "source": [
    "# make the classifier with weights for binarized case too.  Output it's internal scores for train and test."
   ]
  },
  {
   "cell_type": "code",
   "execution_count": null,
   "metadata": {},
   "outputs": [],
   "source": [
    "# output train/test micro and macro f1 scores for weighted and unweighted trees (all classes)"
   ]
  },
  {
   "cell_type": "code",
   "execution_count": null,
   "metadata": {},
   "outputs": [],
   "source": [
    "# output train/test micro and macro f1 scores for weighted and unweighted trees (binarized classes)"
   ]
  },
  {
   "cell_type": "markdown",
   "metadata": {
    "collapsed": false,
    "jupyter": {
     "outputs_hidden": false
    }
   },
   "source": [
    "Выведем, как изменились предсказания модели."
   ]
  },
  {
   "cell_type": "code",
   "execution_count": null,
   "metadata": {},
   "outputs": [],
   "source": [
    "ConfusionMatrixDisplay.from_estimator(model, X_test, y_test)\n",
    "plt.show()"
   ]
  },
  {
   "cell_type": "code",
   "execution_count": null,
   "metadata": {
    "collapsed": false,
    "jupyter": {
     "outputs_hidden": false
    }
   },
   "outputs": [],
   "source": [
    "# create new dataframe with metrics"
   ]
  },
  {
   "cell_type": "markdown",
   "metadata": {
    "collapsed": false,
    "jupyter": {
     "outputs_hidden": false
    }
   },
   "source": [
    "Также посмотрим, насколько чувствительна к дисбалансу другая модель - LogisticRegression"
   ]
  },
  {
   "cell_type": "code",
   "execution_count": null,
   "metadata": {
    "collapsed": false,
    "jupyter": {
     "outputs_hidden": false
    }
   },
   "outputs": [],
   "source": [
    "logreg = # make pipeline of Scaler and Logreg\n",
    "logreg.fit(X_train, y_train)\n",
    "print(\"Naive train score is: \", logreg.score(X_train, y_train))\n",
    "print(\"Naive test score is: \", logreg.score(X_test, y_test))\n",
    "print(\"Classes\", logreg.classes_)"
   ]
  },
  {
   "cell_type": "code",
   "execution_count": null,
   "metadata": {
    "collapsed": false,
    "jupyter": {
     "outputs_hidden": false
    }
   },
   "outputs": [],
   "source": [
    "logreg = # make pipeline of Scaler and Logreg with class weights\n",
    "logreg.fit(X_train, y_train)\n",
    "print(\"Balanced train score is: \", logreg.score(X_train, y_train))\n",
    "print(\"Balanced test score is: \", logreg.score(X_test, y_test))"
   ]
  },
  {
   "cell_type": "markdown",
   "metadata": {
    "collapsed": false,
    "jupyter": {
     "outputs_hidden": false
    }
   },
   "source": [
    "То же самое можно сделать с использованием итеративного линейного классификатора. Используем для этого SGDClassifier"
   ]
  },
  {
   "cell_type": "code",
   "execution_count": null,
   "metadata": {
    "collapsed": false,
    "jupyter": {
     "outputs_hidden": false
    }
   },
   "outputs": [],
   "source": [
    "from sklearn.linear_model import SGDClassifier\n",
    "logreg = # make pipeline of Scaler and SGDClassifier without class weights\n",
    "logreg.fit(X_train, y_train)\n",
    "print(\"Naive train score is: \", logreg.score(X_train, y_train))\n",
    "print(\"Naive test score is: \", logreg.score(X_test, y_test))\n",
    "print(\"Naive test f1-score is: \", f1_score(y_test, y_pred=logreg.predict(X_test), average=\"macro\"))"
   ]
  },
  {
   "cell_type": "code",
   "execution_count": null,
   "metadata": {
    "collapsed": false,
    "jupyter": {
     "outputs_hidden": false
    }
   },
   "outputs": [],
   "source": [
    "logreg = # make pipeline of Scaler and SGDClassifier with class weights\n",
    "logreg.fit(X_train, y_train)\n",
    "print(\"Balanced train score is: \", logreg.score(X_train, y_train))\n",
    "print(\"Balanced test score is: \", logreg.score(X_test, y_test))\n",
    "print(\"Balanced test f1-score is: \", f1_score(y_test, y_pred=logreg.predict(X_test), average=\"macro\"))"
   ]
  },
  {
   "cell_type": "markdown",
   "metadata": {},
   "source": [
    "**Задание**: Обучите более сильный классификатор (RF, GB). Постройте confusion matrix, выведите скоры для него с балансировкой и без. Ответьте на вопрос, как соотносится чувствительность более сильных классификаторов к дисбалансу с более слабыми.\n",
    "\n",
    "------"
   ]
  },
  {
   "cell_type": "markdown",
   "metadata": {
    "collapsed": false,
    "jupyter": {
     "outputs_hidden": false
    }
   },
   "source": [
    "Как видно, балансировка не всегда одинаково полезна. Однако мы можем попробовать воспользоваться дополнительными методами для обучения нашего дерева. Это будет андер- и оверсемплинг (балансировка датасета). Самое простое - взять только небольшую, но сбалансированную часть обучающих данных для непосредственного обучения. Однако, для нашего случая это плохо подходит, так как данных довольно мало."
   ]
  },
  {
   "cell_type": "markdown",
   "metadata": {
    "collapsed": false,
    "jupyter": {
     "outputs_hidden": false
    }
   },
   "source": [
    "Еще раз вспомним, какие предсказания давало дерево решений для нашего набора"
   ]
  },
  {
   "cell_type": "code",
   "execution_count": null,
   "metadata": {
    "collapsed": false,
    "jupyter": {
     "outputs_hidden": false
    }
   },
   "outputs": [],
   "source": [
    "model = DecisionTreeClassifier(max_depth=5)\n",
    "model.fit(X_train, y_train)\n",
    "print(\"Train score is: \", model.score(X_train, y_train))\n",
    "print(\"Test score is: \", model.score(X_test, y_test))\n",
    "print(\"Test f1-score is: \", f1_score(y_test, y_pred=model.predict(X_test), average=\"macro\"))"
   ]
  },
  {
   "cell_type": "markdown",
   "metadata": {},
   "source": [
    "# Оверсемплинг"
   ]
  },
  {
   "cell_type": "markdown",
   "metadata": {},
   "source": [
    "Для начала проведем простейший оверсемплинг, выбирая семплы из минорного класса с заменой до достижения баланса:"
   ]
  },
  {
   "cell_type": "code",
   "execution_count": null,
   "metadata": {},
   "outputs": [],
   "source": [
    "def print_counts(y) -> None:\n",
    "    unique, counts = np.unique(y, return_counts=True)\n",
    "    print(\"\\n\".join([f\"{u}: {c}\" for u, c in zip(unique, counts)]))"
   ]
  },
  {
   "cell_type": "code",
   "execution_count": null,
   "metadata": {},
   "outputs": [],
   "source": [
    "X_gen, y_gen = make_classification(n_samples=5000, n_features=2, n_informative=2,\n",
    "                           n_redundant=0, n_repeated=0, n_classes=3,\n",
    "                           n_clusters_per_class=1,\n",
    "                           weights=[0.02, 0.05, 0.94],\n",
    "                           class_sep=0.8, random_state=SEED)\n",
    "X_train, X_test, y_train, y_test = train_test_split(X_gen, y_gen) # train test split\n"
   ]
  },
  {
   "cell_type": "code",
   "execution_count": null,
   "metadata": {},
   "outputs": [],
   "source": [
    "ros = RandomOverSampler(random_state=SEED, ) # choose your parameters\n",
    "model = DecisionTreeClassifier(max_depth=4)\n",
    "model.fit(X_train, y_train)\n",
    "print(\"Train score is: \", model.score(X_res, y_res))\n",
    "print(\"Test score is: \", model.score(X_test, y_test))\n",
    "print(\"Test f1-score is: \", f1_score(y_test, y_pred=model.predict(X_test), average=\"macro\"))\n",
    "print_counts(y_res)"
   ]
  },
  {
   "cell_type": "code",
   "execution_count": null,
   "metadata": {
    "collapsed": false,
    "jupyter": {
     "outputs_hidden": false
    }
   },
   "outputs": [],
   "source": [
    "ros = RandomOverSampler(random_state=SEED, ) # choose your parameters\n",
    "X_res, y_res = ros.fit_resample(X_train, y_train)\n",
    "model = DecisionTreeClassifier(max_depth=4)\n",
    "model.fit(X_res, y_res)\n",
    "print(\"Train score is: \", model.score(X_res, y_res))\n",
    "print(\"Test score is: \", model.score(X_test, y_test))\n",
    "print(\"Test f1-score is: \", f1_score(y_test, y_pred=model.predict(X_test), average=\"macro\"))\n",
    "print_counts(y_res)"
   ]
  },
  {
   "cell_type": "markdown",
   "metadata": {
    "collapsed": false,
    "jupyter": {
     "outputs_hidden": false
    }
   },
   "source": [
    "### SMOTE (Synthetic Minority Oversampling Technique):\n",
    "SMOTE позволяет расширить выборку, построив синтетические примеры на основе уже существующих. Это еще один вариант решения «проблем классового дисбаланса».\n",
    "\n",
    "Общая схема SMOTE:\n",
    "1) Для создания нового семпла используют пару признаков «соседних» примеров a  и b из миноритарного класса. Их находят, используя алгоритм ближайшего соседа KNN. В данном случае необходимо и достаточно для семпла a получить набор из k соседей, из которого в дальнейшем будет случайно выбран семпл b.\n",
    "2) Для создания нового семпла находят разность $d=X_b–X_a$, где $X_a,X_b$ – векторы признаков «соседних» примеров a  и b из миноритарного класса.\n",
    "3) Далее из $d$ путем его умножения на случайное число в интервале (0,1)  получают $d'$.\n",
    "4) Вектор признаков нового примера вычисляется путем сложения Xa и $d'$.\n",
    "\n",
    "Вопрос: сколько соседей выбирать? И сколько соседей стоит использовать для каждой узловой точки?\n"
   ]
  },
  {
   "cell_type": "code",
   "execution_count": null,
   "metadata": {},
   "outputs": [],
   "source": []
  },
  {
   "cell_type": "code",
   "execution_count": null,
   "metadata": {
    "collapsed": false,
    "jupyter": {
     "outputs_hidden": false
    }
   },
   "outputs": [],
   "source": [
    "from imblearn.over_sampling import SMOTE\n",
    "smote = SMOTE(random_state=SEED) # choose your parameters\n",
    "X_res, y_res = smote.fit_resample(X_train, y_train)\n",
    "print_counts(y_res)"
   ]
  },
  {
   "cell_type": "code",
   "execution_count": null,
   "metadata": {},
   "outputs": [],
   "source": []
  },
  {
   "cell_type": "code",
   "execution_count": null,
   "metadata": {
    "collapsed": false,
    "jupyter": {
     "outputs_hidden": false
    }
   },
   "outputs": [],
   "source": [
    "smote = SMOTE(random_state=SEED) # choose your parameters\n",
    "X_res, y_res = smote.fit_resample(X_train, y_train)"
   ]
  },
  {
   "cell_type": "code",
   "execution_count": null,
   "metadata": {
    "collapsed": false,
    "jupyter": {
     "outputs_hidden": false
    }
   },
   "outputs": [],
   "source": [
    "model = DecisionTreeClassifier(max_depth=5)\n",
    "model.fit(X_res, y_res)\n",
    "print(\"Train score is: \", model.score(X_res, y_res))\n",
    "print(\"Test score is: \", model.score(X_test, y_test))\n",
    "print(\"Test f1-score is: \", f1_score(y_test, y_pred=model.predict(X_test), average=\"macro\"))"
   ]
  },
  {
   "cell_type": "code",
   "execution_count": null,
   "metadata": {
    "collapsed": false,
    "jupyter": {
     "outputs_hidden": false
    }
   },
   "outputs": [],
   "source": [
    "smote = SMOTE(random_state=SEED) # choose your parameters\n",
    "X_res, y_res = smote.fit_resample(X_train, y_train)\n",
    "print_counts(y_res)"
   ]
  },
  {
   "cell_type": "code",
   "execution_count": null,
   "metadata": {
    "collapsed": false,
    "jupyter": {
     "outputs_hidden": false
    }
   },
   "outputs": [],
   "source": [
    "model = DecisionTreeClassifier(max_depth=5)\n",
    "model.fit(X_res, y_res)\n",
    "print(\"Train score is: \", model.score(X_res, y_res))\n",
    "print(\"Test score is: \", model.score(X_test, y_test))\n",
    "print(\"Test f1-score is: \", f1_score(y_test, y_pred=model.predict(X_test), average=\"macro\"))"
   ]
  },
  {
   "cell_type": "markdown",
   "metadata": {
    "collapsed": false,
    "jupyter": {
     "outputs_hidden": false
    }
   },
   "source": [
    "Также мы можем получить более подробный отчет по точности модели."
   ]
  },
  {
   "cell_type": "code",
   "execution_count": null,
   "metadata": {
    "collapsed": false,
    "jupyter": {
     "outputs_hidden": false
    }
   },
   "outputs": [],
   "source": [
    "from imblearn.metrics import classification_report_imbalanced"
   ]
  },
  {
   "cell_type": "code",
   "execution_count": null,
   "metadata": {
    "collapsed": false,
    "jupyter": {
     "outputs_hidden": false
    }
   },
   "outputs": [],
   "source": [
    "print(classification_report_imbalanced(y_test, model.predict(X_test)))"
   ]
  },
  {
   "cell_type": "markdown",
   "metadata": {
    "collapsed": false,
    "jupyter": {
     "outputs_hidden": false
    }
   },
   "source": [
    "Рассмотрим также то, как разные алгоритмы принимают решение."
   ]
  },
  {
   "cell_type": "code",
   "execution_count": null,
   "metadata": {
    "collapsed": false,
    "jupyter": {
     "outputs_hidden": false
    }
   },
   "outputs": [],
   "source": [
    "ros = RandomOverSampler(random_state=SEED)\n",
    "X_resampled, y_resampled = ros.fit_resample(X_train, y_train)\n"
   ]
  },
  {
   "cell_type": "code",
   "execution_count": null,
   "metadata": {
    "collapsed": false,
    "jupyter": {
     "outputs_hidden": false
    }
   },
   "outputs": [],
   "source": [
    "def plot_decision_function(X, y, clf, ax):\n",
    "    plot_step = 0.02\n",
    "    x_min, x_max = X[:, 0].min() - 1, X[:, 0].max() + 1\n",
    "    y_min, y_max = X[:, 1].min() - 1, X[:, 1].max() + 1\n",
    "    xx, yy = np.meshgrid(np.arange(x_min, x_max, plot_step),\n",
    "                         np.arange(y_min, y_max, plot_step))\n",
    "\n",
    "    Z = clf.predict(np.c_[xx.ravel(), yy.ravel()])\n",
    "    Z = Z.reshape(xx.shape)\n",
    "    ax.contourf(xx, yy, Z, alpha=0.4)"
   ]
  },
  {
   "cell_type": "code",
   "execution_count": null,
   "metadata": {},
   "outputs": [],
   "source": [
    "X_train"
   ]
  },
  {
   "cell_type": "code",
   "execution_count": null,
   "metadata": {
    "collapsed": false,
    "jupyter": {
     "outputs_hidden": false
    }
   },
   "outputs": [],
   "source": [
    "# Choosing the first 2 columns for the plot\n",
    "\n",
    "def get_decision_boundary(X_train, y_train, features, ax=None, model=\"logistic\"):\n",
    "    if ax is None:\n",
    "        fig, ax = plt.subplots(figsize=(8,8))\n",
    "    # Creating and fitting the tree classifier\n",
    "    if model == \"logistic\":\n",
    "        classifier = LogisticRegression() # your code: \n",
    "    else:\n",
    "        classifier = RandomForest() # your code: choose another one\n",
    "    # your code: fit model\n",
    "    classifier.fit(X_train, y_train)\n",
    "    # Plotting the tree boundaries\n",
    "    plot_decision_function(X_train, y_train, classifier, ax)\n",
    "\n",
    "    # Plotting the data points\n",
    "    ax.scatter(X_train[:, 0], X_train[:, 1], alpha=0.8, c=y_train, edgecolor='k')\n",
    "    plt.title(f\"Decision surface for {classifier.__class__.__name__} on {features[0]} and {features[1]}\")\n",
    "    plt.show()\n"
   ]
  },
  {
   "cell_type": "code",
   "execution_count": null,
   "metadata": {},
   "outputs": [],
   "source": [
    "y_train.shape"
   ]
  },
  {
   "cell_type": "code",
   "execution_count": null,
   "metadata": {
    "collapsed": false,
    "jupyter": {
     "outputs_hidden": false
    }
   },
   "outputs": [],
   "source": [
    "fig, ax = plt.subplots(figsize=(8,8))\n",
    "get_decision_boundary(X_train, y_train, features = ['x1', 'x2' ], ax=ax)"
   ]
  },
  {
   "cell_type": "code",
   "execution_count": null,
   "metadata": {
    "collapsed": false,
    "jupyter": {
     "outputs_hidden": false
    }
   },
   "outputs": [],
   "source": [
    "\n",
    "get_decision_boundary(X_resampled, y_resampled, features = ['x1', 'x2' ])"
   ]
  },
  {
   "cell_type": "code",
   "execution_count": null,
   "metadata": {
    "collapsed": false,
    "jupyter": {
     "outputs_hidden": false
    }
   },
   "outputs": [],
   "source": [
    "smote = SMOTE(random_state=SEED, k_neighbors=4)\n",
    "X_resampled, y_resampled = smote.fit_resample(X_train, y_train)\n",
    "get_decision_boundary(X_resampled, y_resampled, features = ['x1', 'x2' ])"
   ]
  },
  {
   "cell_type": "markdown",
   "metadata": {
    "collapsed": false,
    "jupyter": {
     "outputs_hidden": false
    }
   },
   "source": [
    "Введем еще один метод оверсемплинга - AdaSYN (Adaptive Synthetic). Этот алгоритм, в отличие от ресэмплинга и SMOTE позволяет сгенерировать более \"сложные\" примеры.\n",
    "Этот алгоритм работает следующим образом:\n",
    "1) Рассчитывается отношение миноритарного и мажоритарного класса: $d = m_s / m_l $\n",
    "2) Определяется, сколько элементов необходимо нагенерировать: $G = (m_l - m_s) * \\beta $. $\\beta $ - параметр балансировки\n",
    "3) Для каждого семпла из миноритарного класса находятся k соседей. После чего ему присваивается вес $r_i = num_major_neighbours / k $.\n",
    "4) $r_i$ нормализуются так, чтобы их сумма равнялсь 1: $ {r_i}' =  \\frac {r_i} {\\sum{r_j}$\n",
    "5) Для каждого семпла определяется число сгененрированных примеров.  $G_i = G * {r_i}' $. Вопрос: в каких областях будет генерироваться больше примеров?\n",
    "6) Далее для каждого примера и его соседей генерируется синтетический пример, как в SMOTE. Также может быть использована добавка белого шума.\n",
    "\n",
    "Вопрос: какие минусы у SMOTE и AdaSYN по отношению друг к другу?"
   ]
  },
  {
   "cell_type": "code",
   "execution_count": null,
   "metadata": {
    "collapsed": false,
    "jupyter": {
     "outputs_hidden": false
    }
   },
   "outputs": [],
   "source": [
    "from imblearn.over_sampling import ADASYN\n",
    "smote = ADASYN(random_state=SEED) # your parameters\n",
    "X_resampled, y_resampled = smote.fit_resample(X_train, y_train)\n",
    "get_decision_boundary(X_resampled, y_resampled, features = ['x1', 'x2' ])"
   ]
  },
  {
   "cell_type": "markdown",
   "metadata": {
    "collapsed": false,
    "jupyter": {
     "outputs_hidden": false
    }
   },
   "source": [
    "На графике сразу видно, когда AdaSYN  может помешать хорошей генерации. Как видно, так как AdaSYN концентрирует сгенерированные примеры у границ классов, тогда как SMOTE может \"соединять\" и примеры в центральной части класса, то он может быть более удачным методом. К тому же, сущестуют различные вариации SNOTE, которые могут давать хороший рещультат в такой постановке."
   ]
  },
  {
   "cell_type": "code",
   "execution_count": null,
   "metadata": {
    "collapsed": false,
    "jupyter": {
     "outputs_hidden": false
    }
   },
   "outputs": [],
   "source": [
    "from imblearn.over_sampling import BorderlineSMOTE\n",
    "smote = BorderlineSMOTE(random_state=SEED) # your parameters\n",
    "X_resampled, y_resampled = smote.fit_resample(X_train, y_train)\n",
    "get_decision_boundary(X_resampled, y_resampled, features = ['x1', 'x2' ])"
   ]
  },
  {
   "cell_type": "markdown",
   "metadata": {
    "collapsed": false,
    "jupyter": {
     "outputs_hidden": false
    }
   },
   "source": [
    "Вопрос: какие можно еще придумать более \"умные\" варианты оверсемплинга на основе CMOTE?"
   ]
  },
  {
   "cell_type": "markdown",
   "metadata": {
    "collapsed": false,
    "jupyter": {
     "outputs_hidden": false
    }
   },
   "source": [
    "**Задание:** Примените разные алгоритмы на данных с вином. Помогает ли оверсемплинг для работы слабых и сильных моделей? "
   ]
  },
  {
   "cell_type": "markdown",
   "metadata": {
    "collapsed": false,
    "jupyter": {
     "outputs_hidden": false
    }
   },
   "source": [
    "## Уменьшение выборки (андерсемплинг)"
   ]
  },
  {
   "cell_type": "markdown",
   "metadata": {
    "collapsed": false,
    "jupyter": {
     "outputs_hidden": false
    }
   },
   "source": [
    "### Prototype generation\n",
    "Методы Prototype generation (создания прототипов) позволяют сократить количество объектов в целевых классах, но остальные объекты генерируются, а не выбираются, из исходного набора.\n",
    "ClusterCentroids использует для этого KMeans."
   ]
  },
  {
   "cell_type": "code",
   "execution_count": null,
   "metadata": {
    "collapsed": false,
    "jupyter": {
     "outputs_hidden": false
    }
   },
   "outputs": [],
   "source": [
    "from sklearn.cluster import MiniBatchKMeans\n",
    "from imblearn.under_sampling import ClusterCentroids\n",
    "sampler = ClusterCentroids(random_state=SEED, estimator=KMeans())# your parameters)\n",
    "X_resampled, y_resampled = sampler.fit_resample(X_train, y_train)\n",
    "get_decision_boundary(X_resampled, y_resampled, features = ['x1', 'x2' ])"
   ]
  },
  {
   "cell_type": "code",
   "execution_count": null,
   "metadata": {
    "collapsed": false,
    "jupyter": {
     "outputs_hidden": false
    }
   },
   "outputs": [],
   "source": [
    "from imblearn.under_sampling import ClusterCentroids\n",
    "sampler = ClusterCentroids(random_state=SEED, estimator=KMeans())# your parameters)\n",
    "X_resampled, y_resampled = sampler.fit_resample(X_train, y_train)\n",
    "get_decision_boundary(X_resampled, y_resampled, features = ['x1', 'x2' ])"
   ]
  },
  {
   "cell_type": "markdown",
   "metadata": {
    "collapsed": false,
    "jupyter": {
     "outputs_hidden": false
    }
   },
   "source": [
    "### Prototype selection\n",
    "Алгоритмы Prototype selection (выбора прототипов) можно разделить на две группы: (i) методы контролируемой недостаточной выборки и (ii) методы очистки недостаточной выборки.\n",
    "\n",
    "Эти методы сокращают количество примеров в мажоритарных классах до произвольного размера, указанного пользователем. Обычно они сводят количество наблюдений к размеру миноритарного класса(ов).\n",
    "К ним относятся: Random UnderSampling, NearMiss.\n",
    "Prototype selection «очищают» пространство признаков, удаляя либо «зашумленные», либо «слишком легко классифицируемые» наблюдения, в зависимости от метода. Окончательное количество наблюдений в каждом классе зависит от метода очистки и не может быть указано пользователем.\n",
    "К ним относится, например, метод связей Томека.\n"
   ]
  },
  {
   "cell_type": "markdown",
   "metadata": {
    "collapsed": false,
    "jupyter": {
     "outputs_hidden": false
    }
   },
   "source": [
    "Наиболее простой метод - RandomUnderSampler - просто выкидывает семплы случайным образом."
   ]
  },
  {
   "cell_type": "code",
   "execution_count": null,
   "metadata": {
    "collapsed": false,
    "jupyter": {
     "outputs_hidden": false
    }
   },
   "outputs": [],
   "source": [
    "from imblearn.under_sampling import RandomUnderSampler\n",
    "rus = RandomUnderSampler(random_state=0)\n",
    "X_resampled, y_resampled = sampler.fit_resample(X_train, y_train)\n",
    "get_decision_boundary(X_resampled, y_resampled, features = ['x1', 'x2' ])"
   ]
  },
  {
   "cell_type": "markdown",
   "metadata": {
    "collapsed": false,
    "jupyter": {
     "outputs_hidden": false
    }
   },
   "source": [
    "Попробуйте реализовать такой семплер вручную:"
   ]
  },
  {
   "cell_type": "code",
   "execution_count": null,
   "metadata": {
    "collapsed": false,
    "jupyter": {
     "outputs_hidden": false
    }
   },
   "outputs": [],
   "source": [
    "# your code"
   ]
  },
  {
   "cell_type": "markdown",
   "metadata": {
    "collapsed": false,
    "jupyter": {
     "outputs_hidden": false
    }
   },
   "source": [
    "NearMiss добавляет некоторые эвристики для выбора семплов. Так, он может выбирать для удаления примеры, ближайшие к миноритарном классу, примеры, среднее расстояние у которых до наиболее дальних примеров из миноритарного класса наименьшее."
   ]
  },
  {
   "cell_type": "code",
   "execution_count": null,
   "metadata": {
    "collapsed": false,
    "jupyter": {
     "outputs_hidden": false
    }
   },
   "outputs": [],
   "source": [
    "# you can add some figures with nearmiss undersampling (use imblearn)"
   ]
  },
  {
   "cell_type": "markdown",
   "metadata": {
    "collapsed": false,
    "jupyter": {
     "outputs_hidden": false
    }
   },
   "source": [
    "Связь Томека существует, когда два примера из разных классов являются ближайшими соседями друг к другу. Алгоритм связей Томека детектирует такие связи и удаляет пример из мажоритарного класса. Основная идея заключается в том, что связи Томека зашумлены или наблюдения трудно классифицировать, и поэтому они не помогут алгоритму найти подходящую границу разделения.\n"
   ]
  },
  {
   "cell_type": "code",
   "execution_count": null,
   "metadata": {
    "collapsed": false,
    "jupyter": {
     "outputs_hidden": false
    }
   },
   "outputs": [],
   "source": [
    "# your сode (use imblearn)"
   ]
  },
  {
   "cell_type": "markdown",
   "metadata": {
    "collapsed": false,
    "jupyter": {
     "outputs_hidden": false
    }
   },
   "source": [
    "Edited nearest neighbours - для примеров из миноритарного класса находит k ближайших соседей и удаляет все семплы из мажоритарных классов, попавшие в эту окрестность."
   ]
  },
  {
   "cell_type": "code",
   "execution_count": null,
   "metadata": {
    "collapsed": false,
    "jupyter": {
     "outputs_hidden": false
    }
   },
   "outputs": [],
   "source": [
    "# your code (use imblearn)"
   ]
  },
  {
   "cell_type": "markdown",
   "metadata": {
    "collapsed": false,
    "jupyter": {
     "outputs_hidden": false
    }
   },
   "source": []
  }
 ],
 "metadata": {
  "kernelspec": {
   "display_name": "Python 3 (ipykernel)",
   "language": "python",
   "name": "python3"
  },
  "language_info": {
   "codemirror_mode": {
    "name": "ipython",
    "version": 3
   },
   "file_extension": ".py",
   "mimetype": "text/x-python",
   "name": "python",
   "nbconvert_exporter": "python",
   "pygments_lexer": "ipython3",
   "version": "3.12.4"
  }
 },
 "nbformat": 4,
 "nbformat_minor": 4
}
